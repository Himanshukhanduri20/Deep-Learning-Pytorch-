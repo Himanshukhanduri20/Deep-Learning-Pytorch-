{
  "nbformat": 4,
  "nbformat_minor": 0,
  "metadata": {
    "colab": {
      "name": "Basics of Pytorch tensor.ipynb",
      "provenance": [],
      "authorship_tag": "ABX9TyNsPB84kPqJBNsnluywUHXA",
      "include_colab_link": true
    },
    "kernelspec": {
      "name": "python3",
      "display_name": "Python 3"
    },
    "language_info": {
      "name": "python"
    }
  },
  "cells": [
    {
      "cell_type": "markdown",
      "metadata": {
        "id": "view-in-github",
        "colab_type": "text"
      },
      "source": [
        "<a href=\"https://colab.research.google.com/github/Himanshukhanduri20/Deep-Learning-Pytorch-/blob/main/Basics_of_Pytorch_tensor.ipynb\" target=\"_parent\"><img src=\"https://colab.research.google.com/assets/colab-badge.svg\" alt=\"Open In Colab\"/></a>"
      ]
    },
    {
      "cell_type": "markdown",
      "metadata": {
        "id": "rA0w9FUicahW"
      },
      "source": [
        "**TENSORS**\n",
        "\n",
        "Tensors are a specialized data structure that are very similar to arrays and matrices. In PyTorch, we use tensors to encode the inputs and outputs of a model, as well as the model’s parameters.\n",
        "\n",
        "Tensors are similar to NumPy’s ndarrays, except that tensors can run on GPUs or other hardware accelerators."
      ]
    },
    {
      "cell_type": "code",
      "metadata": {
        "id": "D5Xeqg891DyY"
      },
      "source": [
        ""
      ],
      "execution_count": null,
      "outputs": []
    },
    {
      "cell_type": "code",
      "metadata": {
        "id": "cNtwpu-wcZJx"
      },
      "source": [
        "import torch\n",
        "import numpy as np"
      ],
      "execution_count": null,
      "outputs": []
    },
    {
      "cell_type": "markdown",
      "metadata": {
        "id": "1rS3eVOidzoV"
      },
      "source": [
        "**Initializing a Tensor**\n",
        "\n",
        "Tensors can be initialized in various ways.\n",
        "\n",
        "Tensors can be created **directly from data.**\n"
      ]
    },
    {
      "cell_type": "code",
      "metadata": {
        "colab": {
          "base_uri": "https://localhost:8080/"
        },
        "id": "7miXYtD4dacY",
        "outputId": "2c7d4b81-7ec0-4180-d198-8ee25c503bcd"
      },
      "source": [
        "data=[1,2,4,5,6,7]\n",
        "torch.tensor(data)"
      ],
      "execution_count": null,
      "outputs": [
        {
          "output_type": "execute_result",
          "data": {
            "text/plain": [
              "tensor([1, 2, 4, 5, 6, 7])"
            ]
          },
          "metadata": {
            "tags": []
          },
          "execution_count": 3
        }
      ]
    },
    {
      "cell_type": "markdown",
      "metadata": {
        "id": "avO3SPzRedSx"
      },
      "source": [
        "**From a NumPy array**"
      ]
    },
    {
      "cell_type": "code",
      "metadata": {
        "colab": {
          "base_uri": "https://localhost:8080/"
        },
        "id": "aCtRnb5WePQC",
        "outputId": "042a3ee6-e39e-4c67-964d-91d550a773a7"
      },
      "source": [
        "data=np.array(data)\n",
        "data=torch.tensor(data)\n",
        "print(data)\n",
        "data=np.ones((2,4))\n",
        "data=torch.tensor(data)\n",
        "print(data)"
      ],
      "execution_count": null,
      "outputs": [
        {
          "output_type": "stream",
          "text": [
            "tensor([1, 2, 4, 5, 6, 7])\n",
            "tensor([[1., 1., 1., 1.],\n",
            "        [1., 1., 1., 1.]], dtype=torch.float64)\n"
          ],
          "name": "stdout"
        }
      ]
    },
    {
      "cell_type": "markdown",
      "metadata": {
        "id": "TihIVgmkfO-W"
      },
      "source": [
        "**From another tensor**"
      ]
    },
    {
      "cell_type": "code",
      "metadata": {
        "colab": {
          "base_uri": "https://localhost:8080/"
        },
        "id": "A4wjRGq5fCcv",
        "outputId": "cefa9b58-8caf-4ae7-9391-e10b99f915ae"
      },
      "source": [
        "x=[9,8,7,5,4,3,2]\n",
        "x=torch.tensor(x)\n",
        "y=torch.ones_like(x)\n",
        "print(x)\n",
        "print(y)\n",
        "y=torch.zeros_like(y)\n",
        "print(y)"
      ],
      "execution_count": null,
      "outputs": [
        {
          "output_type": "stream",
          "text": [
            "tensor([9, 8, 7, 5, 4, 3, 2])\n",
            "tensor([1, 1, 1, 1, 1, 1, 1])\n",
            "tensor([0, 0, 0, 0, 0, 0, 0])\n"
          ],
          "name": "stdout"
        }
      ]
    },
    {
      "cell_type": "markdown",
      "metadata": {
        "id": "uU3BgobTgMSe"
      },
      "source": [
        "**With random or constant values**"
      ]
    },
    {
      "cell_type": "code",
      "metadata": {
        "colab": {
          "base_uri": "https://localhost:8080/"
        },
        "id": "nYsFiAvhgKXY",
        "outputId": "e70bd372-62e9-4e36-f384-95746ca657bb"
      },
      "source": [
        "x=torch.ones((2,7))\n",
        "print(x)\n",
        "y=torch.zeros((3,6))\n",
        "print(y)"
      ],
      "execution_count": null,
      "outputs": [
        {
          "output_type": "stream",
          "text": [
            "tensor([[1., 1., 1., 1., 1., 1., 1.],\n",
            "        [1., 1., 1., 1., 1., 1., 1.]])\n",
            "tensor([[0., 0., 0., 0., 0., 0.],\n",
            "        [0., 0., 0., 0., 0., 0.],\n",
            "        [0., 0., 0., 0., 0., 0.]])\n"
          ],
          "name": "stdout"
        }
      ]
    },
    {
      "cell_type": "markdown",
      "metadata": {
        "id": "yheYUL22hFd9"
      },
      "source": [
        "**Attributes of a Tensor**\n",
        "\n",
        "Tensor attributes describe their shape, datatype, and the device on which they are stored."
      ]
    },
    {
      "cell_type": "code",
      "metadata": {
        "colab": {
          "base_uri": "https://localhost:8080/"
        },
        "id": "XVAlzgHDhOFJ",
        "outputId": "dda54bee-5096-4ddf-e6c1-26675e60b5a2"
      },
      "source": [
        "data=torch.rand((3,6))\n",
        "print(f\"shape :- {data.shape}\")\n",
        "print(f\"data type :- {data.dtype}\")\n",
        "print(f\"device :- {data.device}\")"
      ],
      "execution_count": null,
      "outputs": [
        {
          "output_type": "stream",
          "text": [
            "shape :- torch.Size([3, 6])\n",
            "data type :- torch.float32\n",
            "device :- cpu\n"
          ],
          "name": "stdout"
        }
      ]
    },
    {
      "cell_type": "markdown",
      "metadata": {
        "id": "Me1tYEKaixhN"
      },
      "source": [
        "**Operations on Tensors**\n",
        "\n",
        "*By default, tensors are created on the CPU*. \n",
        "\n",
        "We need to explicitly move tensors to the GPU using .to method (after checking for GPU availability). Keep in mind that copying large tensors across devices can be expensive in terms of time and memory!"
      ]
    },
    {
      "cell_type": "code",
      "metadata": {
        "id": "gqqPxnCnizZE"
      },
      "source": [
        "# We move our tensor to the GPU if available\n",
        "if torch.cuda.is_available():\n",
        "  tensor = tensor.to('cuda')"
      ],
      "execution_count": null,
      "outputs": []
    },
    {
      "cell_type": "markdown",
      "metadata": {
        "id": "SowLdr1qnuiP"
      },
      "source": [
        "**Standard numpy-like indexing and slicing:**"
      ]
    },
    {
      "cell_type": "code",
      "metadata": {
        "colab": {
          "base_uri": "https://localhost:8080/"
        },
        "id": "uBxvwUugnwFg",
        "outputId": "90e18466-d0b4-4c31-da3e-56a5504d8478"
      },
      "source": [
        "tensor = torch.ones(4, 4)\n",
        "print('First row: ',tensor[0])\n",
        "print('First column: ', tensor[:, 0])\n",
        "print(tensor)\n",
        "print(tensor[:,2])\n",
        "print('Last column:', tensor[..., -1])\n",
        "tensor[:,1] = 0\n",
        "print(tensor)"
      ],
      "execution_count": null,
      "outputs": [
        {
          "output_type": "stream",
          "text": [
            "First row:  tensor([1., 1., 1., 1.])\n",
            "First column:  tensor([1., 1., 1., 1.])\n",
            "tensor([[1., 1., 1., 1.],\n",
            "        [1., 1., 1., 1.],\n",
            "        [1., 1., 1., 1.],\n",
            "        [1., 1., 1., 1.]])\n",
            "tensor([1., 1., 1., 1.])\n",
            "Last column: tensor([1., 1., 1., 1.])\n",
            "tensor([[1., 0., 1., 1.],\n",
            "        [1., 0., 1., 1.],\n",
            "        [1., 0., 1., 1.],\n",
            "        [1., 0., 1., 1.]])\n"
          ],
          "name": "stdout"
        }
      ]
    },
    {
      "cell_type": "markdown",
      "metadata": {
        "id": "4K-xO6DBoDf3"
      },
      "source": [
        "**Joining tensors You can use torch.cat to concatenate a sequence of tensors along a given dimension.**"
      ]
    },
    {
      "cell_type": "code",
      "metadata": {
        "colab": {
          "base_uri": "https://localhost:8080/"
        },
        "id": "qFan7wq4n5Mz",
        "outputId": "c53414ea-d397-4229-dc8f-a4001a4aad2c"
      },
      "source": [
        "data=torch.zeros((2,2))\n",
        "data2=torch.ones((2,2))\n",
        "data3=torch.cat([data,data2])\n",
        "print(data3)\n",
        "data3=torch.cat([data,data2],dim=1)\n",
        "print(data3)"
      ],
      "execution_count": null,
      "outputs": [
        {
          "output_type": "stream",
          "text": [
            "tensor([[0., 0.],\n",
            "        [0., 0.],\n",
            "        [1., 1.],\n",
            "        [1., 1.]])\n",
            "tensor([[0., 0., 1., 1.],\n",
            "        [0., 0., 1., 1.]])\n"
          ],
          "name": "stdout"
        }
      ]
    },
    {
      "cell_type": "markdown",
      "metadata": {
        "id": "-NmkO4m2sDyD"
      },
      "source": [
        "**Arithmetic operations**"
      ]
    },
    {
      "cell_type": "code",
      "metadata": {
        "colab": {
          "base_uri": "https://localhost:8080/"
        },
        "id": "BXl2kl1LsH90",
        "outputId": "7250e8c2-76f0-4d96-d1eb-d05be9f56425"
      },
      "source": [
        "# This computes the matrix multiplication between two tensors. y1, y2, y3 will have the same value\n",
        "tensor =torch.rand((3,4))\n",
        "print(f\"tensor :-- {tensor}\")\n",
        "print(f\"transpose of tensor :--{tensor.T}\")  #transpose of tensor\n",
        "\n",
        "y1 = tensor @ tensor.T\n",
        "\n",
        "y2 = tensor.matmul(tensor.T)\n",
        "\n",
        "\n",
        "y3 = torch.rand_like(tensor)\n",
        "torch.matmul(tensor, tensor.T, out=y3)\n",
        "\n",
        "\n",
        "# This computes the element-wise product. z1, z2, z3 will have the same value\n",
        "z1 = tensor * tensor\n",
        "z2 = tensor.mul(tensor)\n",
        "\n",
        "z3 = torch.rand_like(tensor)\n",
        "torch.mul(tensor, tensor, out=z3)"
      ],
      "execution_count": null,
      "outputs": [
        {
          "output_type": "stream",
          "text": [
            "tensor([[0.5185, 0.4427, 0.2492, 0.5968],\n",
            "        [0.4068, 0.0426, 0.4855, 0.6698],\n",
            "        [0.8519, 0.8623, 0.9003, 0.2079]])\n",
            "tensor([[0.5185, 0.4068, 0.8519],\n",
            "        [0.4427, 0.0426, 0.8623],\n",
            "        [0.2492, 0.4855, 0.9003],\n",
            "        [0.5968, 0.6698, 0.2079]])\n"
          ],
          "name": "stdout"
        },
        {
          "output_type": "execute_result",
          "data": {
            "text/plain": [
              "tensor([[0.2689, 0.1960, 0.0621, 0.3562],\n",
              "        [0.1655, 0.0018, 0.2357, 0.4486],\n",
              "        [0.7258, 0.7435, 0.8105, 0.0432]])"
            ]
          },
          "metadata": {
            "tags": []
          },
          "execution_count": 33
        }
      ]
    },
    {
      "cell_type": "markdown",
      "metadata": {
        "id": "V0hka9TywnXD"
      },
      "source": [
        "Single-element tensors If you have a one-element tensor, for example by aggregating all values of a tensor into one value, you can convert it to a Python numerical value using item():"
      ]
    },
    {
      "cell_type": "code",
      "metadata": {
        "colab": {
          "base_uri": "https://localhost:8080/"
        },
        "id": "hChd0bGBwphB",
        "outputId": "8b7844d2-b97d-42e7-8fc0-3e04f6b74870"
      },
      "source": [
        "tensor =torch.tensor([1,2,3,4,5])\n",
        "tensor1=torch.rand((2,4))\n",
        "agg = tensor.sum()\n",
        "agg1=tensor1.sum()\n",
        "print(f\"agg :- {agg}\")\n",
        "print(f\"agg1 :- {agg1}\")\n",
        "agg_item = agg.item()\n",
        "agg1_item = agg1.item()\n",
        "print(f\"agg_item :-{agg_item}, {type(agg_item)}\")\n",
        "print(f\"agg1_item :-{agg1_item}, {type(agg1_item)}\")"
      ],
      "execution_count": null,
      "outputs": [
        {
          "output_type": "stream",
          "text": [
            "agg :- 15\n",
            "agg1 :- 3.824166774749756\n",
            "agg_item :-15, <class 'int'>\n",
            "agg1_item :-3.824166774749756, <class 'float'>\n"
          ],
          "name": "stdout"
        }
      ]
    },
    {
      "cell_type": "markdown",
      "metadata": {
        "id": "QKL_EbCszOYp"
      },
      "source": [
        "**In-place operations** \n",
        "\n",
        "Operations that store the result into the operand are called in-place. They are denoted by a _ suffix. For example: x.copy_(y), x.t_(), will change x."
      ]
    },
    {
      "cell_type": "code",
      "metadata": {
        "colab": {
          "base_uri": "https://localhost:8080/"
        },
        "id": "1xu7VYnXzV7z",
        "outputId": "a6392669-3e05-41a9-a0d3-0ecd5f8b7175"
      },
      "source": [
        "tensor=torch.ones((2,5))\n",
        "print(tensor, \"\\n\")\n",
        "tensor.add_(5)\n",
        "print(tensor)"
      ],
      "execution_count": null,
      "outputs": [
        {
          "output_type": "stream",
          "text": [
            "tensor([[1., 1., 1., 1., 1.],\n",
            "        [1., 1., 1., 1., 1.]]) \n",
            "\n",
            "tensor([[6., 6., 6., 6., 6.],\n",
            "        [6., 6., 6., 6., 6.]])\n"
          ],
          "name": "stdout"
        }
      ]
    },
    {
      "cell_type": "markdown",
      "metadata": {
        "id": "G_TTFKPWzw7O"
      },
      "source": [
        "**Bridge with NumPy**\n",
        "\n",
        "Tensors on the CPU and NumPy arrays can share their underlying memory locations, and changing one will change the other."
      ]
    },
    {
      "cell_type": "code",
      "metadata": {
        "colab": {
          "base_uri": "https://localhost:8080/"
        },
        "id": "S-Vnt6YTzv91",
        "outputId": "70c48bd1-0f00-4a97-9e13-53c75f54c70b"
      },
      "source": [
        "t = torch.ones(5)\n",
        "print(f\"t: {t}\")\n",
        "n = t.numpy()\n",
        "print(f\"n: {n}\")"
      ],
      "execution_count": null,
      "outputs": [
        {
          "output_type": "stream",
          "text": [
            "t: tensor([1., 1., 1., 1., 1.])\n",
            "n: [1. 1. 1. 1. 1.]\n"
          ],
          "name": "stdout"
        }
      ]
    },
    {
      "cell_type": "markdown",
      "metadata": {
        "id": "vwSsOb5M0QGN"
      },
      "source": [
        "A change in the tensor reflects in the NumPy array."
      ]
    },
    {
      "cell_type": "code",
      "metadata": {
        "colab": {
          "base_uri": "https://localhost:8080/"
        },
        "id": "LCONKDHz0RhA",
        "outputId": "b074a312-a2b6-42b3-e1f8-2ca033487fe0"
      },
      "source": [
        "t=torch.ones(7)\n",
        "print(t)\n",
        "t.add_(1)\n",
        "n=t.numpy()\n",
        "print(f\"t: {t}\")\n",
        "print(f\"n: {n}\")\n",
        "t=t+10\n",
        "print(t)\n",
        "print(n)\n",
        "t.sub_(5)\n",
        "print(\"\\n\")\n",
        "print(t)\n",
        "print(n)"
      ],
      "execution_count": null,
      "outputs": [
        {
          "output_type": "stream",
          "text": [
            "tensor([1., 1., 1., 1., 1., 1., 1.])\n",
            "t: tensor([2., 2., 2., 2., 2., 2., 2.])\n",
            "n: [2. 2. 2. 2. 2. 2. 2.]\n",
            "tensor([12., 12., 12., 12., 12., 12., 12.])\n",
            "[2. 2. 2. 2. 2. 2. 2.]\n",
            "\n",
            "\n",
            "tensor([7., 7., 7., 7., 7., 7., 7.])\n",
            "[2. 2. 2. 2. 2. 2. 2.]\n"
          ],
          "name": "stdout"
        }
      ]
    }
  ]
}